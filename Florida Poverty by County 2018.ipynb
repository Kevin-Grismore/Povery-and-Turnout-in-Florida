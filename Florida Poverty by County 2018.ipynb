{
 "cells": [
  {
   "cell_type": "code",
   "execution_count": 1,
   "metadata": {},
   "outputs": [],
   "source": [
    "import os\n",
    "import pandas as pd\n",
    "import geopandas as gpd\n",
    "import matplotlib.pyplot as plt"
   ]
  },
  {
   "cell_type": "code",
   "execution_count": 2,
   "metadata": {},
   "outputs": [
    {
     "data": {
      "text/plain": [
       "'C:\\\\Users\\\\kevin\\\\Documents\\\\GIS\\\\POS4764\\\\Project'"
      ]
     },
     "execution_count": 2,
     "metadata": {},
     "output_type": "execute_result"
    }
   ],
   "source": [
    "os.getcwd()"
   ]
  },
  {
   "cell_type": "code",
   "execution_count": 3,
   "metadata": {},
   "outputs": [],
   "source": [
    "os.chdir('Data')"
   ]
  },
  {
   "cell_type": "code",
   "execution_count": 4,
   "metadata": {},
   "outputs": [
    {
     "data": {
      "text/plain": [
       "['Florida', 'flpoverty2018.csv']"
      ]
     },
     "execution_count": 4,
     "metadata": {},
     "output_type": "execute_result"
    }
   ],
   "source": [
    "os.listdir()"
   ]
  },
  {
   "cell_type": "code",
   "execution_count": 5,
   "metadata": {},
   "outputs": [],
   "source": [
    "poverty = pd.read_csv('flpoverty2018.csv')"
   ]
  },
  {
   "cell_type": "code",
   "execution_count": 6,
   "metadata": {},
   "outputs": [
    {
     "data": {
      "text/html": [
       "<div>\n",
       "<style scoped>\n",
       "    .dataframe tbody tr th:only-of-type {\n",
       "        vertical-align: middle;\n",
       "    }\n",
       "\n",
       "    .dataframe tbody tr th {\n",
       "        vertical-align: top;\n",
       "    }\n",
       "\n",
       "    .dataframe thead th {\n",
       "        text-align: right;\n",
       "    }\n",
       "</style>\n",
       "<table border=\"1\" class=\"dataframe\">\n",
       "  <thead>\n",
       "    <tr style=\"text-align: right;\">\n",
       "      <th></th>\n",
       "      <th>County</th>\n",
       "      <th>PovertyRate</th>\n",
       "      <th>ccode</th>\n",
       "    </tr>\n",
       "  </thead>\n",
       "  <tbody>\n",
       "    <tr>\n",
       "      <th>0</th>\n",
       "      <td>Alachua</td>\n",
       "      <td>0.212</td>\n",
       "      <td>1.0</td>\n",
       "    </tr>\n",
       "    <tr>\n",
       "      <th>1</th>\n",
       "      <td>Baker</td>\n",
       "      <td>0.153</td>\n",
       "      <td>3.0</td>\n",
       "    </tr>\n",
       "    <tr>\n",
       "      <th>2</th>\n",
       "      <td>Bay</td>\n",
       "      <td>0.149</td>\n",
       "      <td>5.0</td>\n",
       "    </tr>\n",
       "    <tr>\n",
       "      <th>3</th>\n",
       "      <td>Bradford</td>\n",
       "      <td>0.191</td>\n",
       "      <td>7.0</td>\n",
       "    </tr>\n",
       "    <tr>\n",
       "      <th>4</th>\n",
       "      <td>Brevard</td>\n",
       "      <td>0.124</td>\n",
       "      <td>9.0</td>\n",
       "    </tr>\n",
       "  </tbody>\n",
       "</table>\n",
       "</div>"
      ],
      "text/plain": [
       "      County  PovertyRate  ccode\n",
       "0   Alachua         0.212    1.0\n",
       "1     Baker         0.153    3.0\n",
       "2       Bay         0.149    5.0\n",
       "3  Bradford         0.191    7.0\n",
       "4   Brevard         0.124    9.0"
      ]
     },
     "execution_count": 6,
     "metadata": {},
     "output_type": "execute_result"
    }
   ],
   "source": [
    "poverty.head()"
   ]
  },
  {
   "cell_type": "code",
   "execution_count": 7,
   "metadata": {},
   "outputs": [
    {
     "data": {
      "text/plain": [
       "['Florida_Counties.cpg',\n",
       " 'Florida_Counties.dbf',\n",
       " 'Florida_Counties.prj',\n",
       " 'Florida_Counties.shp',\n",
       " 'Florida_Counties.shx',\n",
       " 'Florida_Counties.xml']"
      ]
     },
     "execution_count": 7,
     "metadata": {},
     "output_type": "execute_result"
    }
   ],
   "source": [
    "os.chdir('Florida')\n",
    "os.listdir()"
   ]
  },
  {
   "cell_type": "code",
   "execution_count": 8,
   "metadata": {},
   "outputs": [],
   "source": [
    "fl_counties = gpd.read_file('Florida_Counties.shp')"
   ]
  },
  {
   "cell_type": "code",
   "execution_count": 9,
   "metadata": {},
   "outputs": [],
   "source": [
    "fl_counties['COUNTY'] = fl_counties['COUNTY'].astype(float)"
   ]
  },
  {
   "cell_type": "code",
   "execution_count": 10,
   "metadata": {},
   "outputs": [
    {
     "data": {
      "text/plain": [
       "<matplotlib.axes._subplots.AxesSubplot at 0x22bbee496a0>"
      ]
     },
     "execution_count": 10,
     "metadata": {},
     "output_type": "execute_result"
    },
    {
     "data": {
      "image/png": "[encoded data removed]",
      "text/plain": [
       "<Figure size 432x288 with 1 Axes>"
      ]
     },
     "metadata": {
      "needs_background": "light"
     },
     "output_type": "display_data"
    }
   ],
   "source": [
    "fl_counties.plot()"
   ]
  },
  {
   "cell_type": "code",
   "execution_count": 11,
   "metadata": {},
   "outputs": [
    {
     "data": {
      "text/html": [
       "<div>\n",
       "<style scoped>\n",
       "    .dataframe tbody tr th:only-of-type {\n",
       "        vertical-align: middle;\n",
       "    }\n",
       "\n",
       "    .dataframe tbody tr th {\n",
       "        vertical-align: top;\n",
       "    }\n",
       "\n",
       "    .dataframe thead th {\n",
       "        text-align: right;\n",
       "    }\n",
       "</style>\n",
       "<table border=\"1\" class=\"dataframe\">\n",
       "  <thead>\n",
       "    <tr style=\"text-align: right;\">\n",
       "      <th></th>\n",
       "      <th>OBJECTID</th>\n",
       "      <th>DEPCODE</th>\n",
       "      <th>COUNTY</th>\n",
       "      <th>COUNTYNAME</th>\n",
       "      <th>DATESTAMP</th>\n",
       "      <th>ShapeSTAre</th>\n",
       "      <th>ShapeSTLen</th>\n",
       "      <th>geometry</th>\n",
       "    </tr>\n",
       "  </thead>\n",
       "  <tbody>\n",
       "    <tr>\n",
       "      <th>0</th>\n",
       "      <td>1</td>\n",
       "      <td>21</td>\n",
       "      <td>41.0</td>\n",
       "      <td>GILCHRIST</td>\n",
       "      <td>2000-05-16T00:00:00.000Z</td>\n",
       "      <td>9.908353e+09</td>\n",
       "      <td>4.873000e+05</td>\n",
       "      <td>POLYGON ((-82.65813600527831 29.83028106592836...</td>\n",
       "    </tr>\n",
       "    <tr>\n",
       "      <th>1</th>\n",
       "      <td>2</td>\n",
       "      <td>54</td>\n",
       "      <td>107.0</td>\n",
       "      <td>PUTNAM</td>\n",
       "      <td>2000-05-16T00:00:00.000Z</td>\n",
       "      <td>2.305869e+10</td>\n",
       "      <td>7.629677e+05</td>\n",
       "      <td>POLYGON ((-81.58084263191225 29.83955869988373...</td>\n",
       "    </tr>\n",
       "    <tr>\n",
       "      <th>2</th>\n",
       "      <td>3</td>\n",
       "      <td>62</td>\n",
       "      <td>123.0</td>\n",
       "      <td>TAYLOR</td>\n",
       "      <td>2000-05-16T00:00:00.000Z</td>\n",
       "      <td>2.891747e+10</td>\n",
       "      <td>8.772527e+05</td>\n",
       "      <td>(POLYGON ((-83.73036687278116 30.3035764144186...</td>\n",
       "    </tr>\n",
       "    <tr>\n",
       "      <th>3</th>\n",
       "      <td>4</td>\n",
       "      <td>46</td>\n",
       "      <td>91.0</td>\n",
       "      <td>OKALOOSA</td>\n",
       "      <td>2000-05-16T00:00:00.000Z</td>\n",
       "      <td>2.562159e+10</td>\n",
       "      <td>1.087058e+06</td>\n",
       "      <td>(POLYGON ((-86.39159408384468 30.6497039172779...</td>\n",
       "    </tr>\n",
       "    <tr>\n",
       "      <th>4</th>\n",
       "      <td>5</td>\n",
       "      <td>7</td>\n",
       "      <td>13.0</td>\n",
       "      <td>CALHOUN</td>\n",
       "      <td>2000-05-16T00:00:00.000Z</td>\n",
       "      <td>1.604809e+10</td>\n",
       "      <td>6.313440e+05</td>\n",
       "      <td>POLYGON ((-84.93265667941331 30.60636534524649...</td>\n",
       "    </tr>\n",
       "  </tbody>\n",
       "</table>\n",
       "</div>"
      ],
      "text/plain": [
       "   OBJECTID  DEPCODE  COUNTY COUNTYNAME                 DATESTAMP  \\\n",
       "0         1       21    41.0  GILCHRIST  2000-05-16T00:00:00.000Z   \n",
       "1         2       54   107.0     PUTNAM  2000-05-16T00:00:00.000Z   \n",
       "2         3       62   123.0     TAYLOR  2000-05-16T00:00:00.000Z   \n",
       "3         4       46    91.0   OKALOOSA  2000-05-16T00:00:00.000Z   \n",
       "4         5        7    13.0    CALHOUN  2000-05-16T00:00:00.000Z   \n",
       "\n",
       "     ShapeSTAre    ShapeSTLen  \\\n",
       "0  9.908353e+09  4.873000e+05   \n",
       "1  2.305869e+10  7.629677e+05   \n",
       "2  2.891747e+10  8.772527e+05   \n",
       "3  2.562159e+10  1.087058e+06   \n",
       "4  1.604809e+10  6.313440e+05   \n",
       "\n",
       "                                            geometry  \n",
       "0  POLYGON ((-82.65813600527831 29.83028106592836...  \n",
       "1  POLYGON ((-81.58084263191225 29.83955869988373...  \n",
       "2  (POLYGON ((-83.73036687278116 30.3035764144186...  \n",
       "3  (POLYGON ((-86.39159408384468 30.6497039172779...  \n",
       "4  POLYGON ((-84.93265667941331 30.60636534524649...  "
      ]
     },
     "execution_count": 11,
     "metadata": {},
     "output_type": "execute_result"
    }
   ],
   "source": [
    "fl_counties.head()"
   ]
  },
  {
   "cell_type": "code",
   "execution_count": 12,
   "metadata": {},
   "outputs": [
    {
     "data": {
      "text/html": [
       "<div>\n",
       "<style scoped>\n",
       "    .dataframe tbody tr th:only-of-type {\n",
       "        vertical-align: middle;\n",
       "    }\n",
       "\n",
       "    .dataframe tbody tr th {\n",
       "        vertical-align: top;\n",
       "    }\n",
       "\n",
       "    .dataframe thead th {\n",
       "        text-align: right;\n",
       "    }\n",
       "</style>\n",
       "<table border=\"1\" class=\"dataframe\">\n",
       "  <thead>\n",
       "    <tr style=\"text-align: right;\">\n",
       "      <th></th>\n",
       "      <th>OBJECTID</th>\n",
       "      <th>DEPCODE</th>\n",
       "      <th>COUNTY</th>\n",
       "      <th>COUNTYNAME</th>\n",
       "      <th>DATESTAMP</th>\n",
       "      <th>ShapeSTAre</th>\n",
       "      <th>ShapeSTLen</th>\n",
       "      <th>geometry</th>\n",
       "      <th>County</th>\n",
       "      <th>PovertyRate</th>\n",
       "      <th>ccode</th>\n",
       "    </tr>\n",
       "  </thead>\n",
       "  <tbody>\n",
       "    <tr>\n",
       "      <th>66</th>\n",
       "      <td>67</td>\n",
       "      <td>55</td>\n",
       "      <td>109.0</td>\n",
       "      <td>ST. JOHNS</td>\n",
       "      <td>2000-05-16T00:00:00.000Z</td>\n",
       "      <td>1.784792e+10</td>\n",
       "      <td>1.130720e+06</td>\n",
       "      <td>(POLYGON ((-81.37788144125285 30.1078996789115...</td>\n",
       "      <td>St. Johns</td>\n",
       "      <td>0.083</td>\n",
       "      <td>109.0</td>\n",
       "    </tr>\n",
       "    <tr>\n",
       "      <th>28</th>\n",
       "      <td>29</td>\n",
       "      <td>60</td>\n",
       "      <td>119.0</td>\n",
       "      <td>SUMTER</td>\n",
       "      <td>2000-05-16T00:00:00.000Z</td>\n",
       "      <td>1.617104e+10</td>\n",
       "      <td>7.519140e+05</td>\n",
       "      <td>POLYGON ((-81.95433194295875 28.96002352989874...</td>\n",
       "      <td>Sumter</td>\n",
       "      <td>0.091</td>\n",
       "      <td>119.0</td>\n",
       "    </tr>\n",
       "    <tr>\n",
       "      <th>53</th>\n",
       "      <td>54</td>\n",
       "      <td>45</td>\n",
       "      <td>89.0</td>\n",
       "      <td>NASSAU</td>\n",
       "      <td>2000-05-16T00:00:00.000Z</td>\n",
       "      <td>1.766834e+10</td>\n",
       "      <td>1.275145e+06</td>\n",
       "      <td>(POLYGON ((-81.89150587604259 30.8168275494847...</td>\n",
       "      <td>Nassau</td>\n",
       "      <td>0.091</td>\n",
       "      <td>89.0</td>\n",
       "    </tr>\n",
       "    <tr>\n",
       "      <th>56</th>\n",
       "      <td>57</td>\n",
       "      <td>58</td>\n",
       "      <td>115.0</td>\n",
       "      <td>SARASOTA</td>\n",
       "      <td>2000-05-16T00:00:00.000Z</td>\n",
       "      <td>1.624460e+10</td>\n",
       "      <td>8.664802e+05</td>\n",
       "      <td>(POLYGON ((-82.52940806611684 27.3886696393451...</td>\n",
       "      <td>Sarasota</td>\n",
       "      <td>0.092</td>\n",
       "      <td>115.0</td>\n",
       "    </tr>\n",
       "    <tr>\n",
       "      <th>21</th>\n",
       "      <td>22</td>\n",
       "      <td>10</td>\n",
       "      <td>19.0</td>\n",
       "      <td>CLAY</td>\n",
       "      <td>2000-05-16T00:00:00.000Z</td>\n",
       "      <td>1.794850e+10</td>\n",
       "      <td>6.031178e+05</td>\n",
       "      <td>POLYGON ((-81.68007516544645 30.12155088244222...</td>\n",
       "      <td>Clay</td>\n",
       "      <td>0.099</td>\n",
       "      <td>19.0</td>\n",
       "    </tr>\n",
       "  </tbody>\n",
       "</table>\n",
       "</div>"
      ],
      "text/plain": [
       "    OBJECTID  DEPCODE  COUNTY COUNTYNAME                 DATESTAMP  \\\n",
       "66        67       55   109.0  ST. JOHNS  2000-05-16T00:00:00.000Z   \n",
       "28        29       60   119.0     SUMTER  2000-05-16T00:00:00.000Z   \n",
       "53        54       45    89.0     NASSAU  2000-05-16T00:00:00.000Z   \n",
       "56        57       58   115.0   SARASOTA  2000-05-16T00:00:00.000Z   \n",
       "21        22       10    19.0       CLAY  2000-05-16T00:00:00.000Z   \n",
       "\n",
       "      ShapeSTAre    ShapeSTLen  \\\n",
       "66  1.784792e+10  1.130720e+06   \n",
       "28  1.617104e+10  7.519140e+05   \n",
       "53  1.766834e+10  1.275145e+06   \n",
       "56  1.624460e+10  8.664802e+05   \n",
       "21  1.794850e+10  6.031178e+05   \n",
       "\n",
       "                                             geometry      County  \\\n",
       "66  (POLYGON ((-81.37788144125285 30.1078996789115...  St. Johns    \n",
       "28  POLYGON ((-81.95433194295875 28.96002352989874...     Sumter    \n",
       "53  (POLYGON ((-81.89150587604259 30.8168275494847...     Nassau    \n",
       "56  (POLYGON ((-82.52940806611684 27.3886696393451...   Sarasota    \n",
       "21  POLYGON ((-81.68007516544645 30.12155088244222...       Clay    \n",
       "\n",
       "    PovertyRate  ccode  \n",
       "66        0.083  109.0  \n",
       "28        0.091  119.0  \n",
       "53        0.091   89.0  \n",
       "56        0.092  115.0  \n",
       "21        0.099   19.0  "
      ]
     },
     "execution_count": 12,
     "metadata": {},
     "output_type": "execute_result"
    }
   ],
   "source": [
    "fl_counties_pov = fl_counties.merge(poverty, left_on = 'COUNTY', right_on = 'ccode', how = 'left')\n",
    "fl_counties_pov = fl_counties_pov.sort_values('PovertyRate')\n",
    "fl_counties_pov.head()"
   ]
  },
  {
   "cell_type": "code",
   "execution_count": 25,
   "metadata": {},
   "outputs": [
    {
     "data": {
      "text/plain": [
       "Text(0.5, 1, 'Poverty Rate by County')"
      ]
     },
     "execution_count": 25,
     "metadata": {},
     "output_type": "execute_result"
    },
    {
     "data": {
      "image/png": "[encoded data removed]",
      "text/plain": [
       "<Figure size 432x288 with 2 Axes>"
      ]
     },
     "metadata": {
      "needs_background": "light"
     },
     "output_type": "display_data"
    }
   ],
   "source": [
    "fig, ax = plt.subplots()\n",
    "fl_counties_pov.plot(ax = ax, column='PovertyRate', cmap = \"Oranges\", edgecolor='grey', legend=True)\n",
    "ax.set_facecolor('lightblue')\n",
    "plt.title(\"Poverty Rate by County\")"
   ]
  },
  {
   "cell_type": "code",
   "execution_count": null,
   "metadata": {},
   "outputs": [],
   "source": []
  }
 ],
 "metadata": {
  "kernelspec": {
   "display_name": "Python 3",
   "language": "python",
   "name": "python3"
  },
  "language_info": {
   "codemirror_mode": {
    "name": "ipython",
    "version": 3
   },
   "file_extension": ".py",
   "mimetype": "text/x-python",
   "name": "python",
   "nbconvert_exporter": "python",
   "pygments_lexer": "ipython3",
   "version": "3.7.3"
  }
 },
 "nbformat": 4,
 "nbformat_minor": 2
}
